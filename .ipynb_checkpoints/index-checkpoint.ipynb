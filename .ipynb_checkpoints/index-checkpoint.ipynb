{
 "cells": [
  {
   "cell_type": "code",
   "execution_count": null,
   "metadata": {
    "collapsed": false
   },
   "outputs": [],
   "source": [
    "%%html\n",
    "<script>\n",
    "    //\n",
    "    // Run all notebook cells on load\n",
    "    //\n",
    "    // 1. Finish updating the code\n",
    "    // 2. Run this cell with CTRL-ENTER\n",
    "    // 3. Save the notebook\n",
    "    // 4. Commit the code to Git\n",
    "    //\n",
    "    // If you change the code afterwards, this\n",
    "    // will not work. It must be the last thing\n",
    "    // you do before you distribute changes.\n",
    "    //\n",
    "    // Omar Trejo <otrenav@gmail.com>\n",
    "    //\n",
    "    require(\n",
    "        ['base/js/namespace', 'jquery'], \n",
    "        function(jupyter, $) {\n",
    "            $(jupyter.events).on(\"kernel_ready.Kernel\", function () {\n",
    "                console.log(\"Auto-running all cells-below...\");\n",
    "                jupyter.actions.call('jupyter-notebook:run-all-cells-below');\n",
    "                jupyter.actions.call('jupyter-notebook:save-notebook');\n",
    "            });\n",
    "        }\n",
    "    );\n",
    "</script>"
   ]
  },
  {
   "cell_type": "code",
   "execution_count": null,
   "metadata": {
    "collapsed": false,
    "scrolled": false
   },
   "outputs": [],
   "source": [
    "%%html\n",
    "<script>\n",
    "    //\n",
    "    // Hide all input cells\n",
    "    //\n",
    "    // A button will be created in the toolbar which\n",
    "    // says \"Code\" (you can change it in the following\n",
    "    // lines). If you click it, you will show the\n",
    "    // input cells.\n",
    "    //\n",
    "    // Omar Trejo <otrenav@gmail.com>\n",
    "    // \n",
    "    var showCode = true; \n",
    "    var toggleCode = function() {\n",
    "        if (showCode) {\n",
    "            $('div.input').hide();\n",
    "        } else {\n",
    "            $('div.input').show();\n",
    "        }\n",
    "        showCode = !showCode;\n",
    "    };\n",
    "    var toggleCodeButton = (\n",
    "        '<div class=\"btn-group\" id=\"buttonOne\">' +\n",
    "        '<button class=\"btn btn-default\" onclick=\"toggleCode()\">' + \n",
    "        'Code' +\n",
    "        '</button>' +\n",
    "        '</div>'\n",
    "    );\n",
    "    if (!document.getElementById(\"buttonOne\")) {\n",
    "        $(\"#maintoolbar-container\").append(toggleCodeButton);\n",
    "    }\n",
    "    $(document).ready(toggleCode);\n",
    "</script>"
   ]
  },
  {
   "cell_type": "code",
   "execution_count": null,
   "metadata": {
    "collapsed": false
   },
   "outputs": [],
   "source": [
    "%%html\n",
    "<script>\n",
    "    //\n",
    "    // Hide toolbars\n",
    "    //\n",
    "    // A button will be created in the top bar which\n",
    "    // says \"Toolbars\" (you can change it in the\n",
    "    // following lines). If you click it, you will\n",
    "    // show the toolbars.\n",
    "    //\n",
    "    // Omar Trejo <otrenav@gmail.com>\n",
    "    // \n",
    "    var showToolbars = true; \n",
    "    var toggleToolbars = function() {\n",
    "        if (showToolbars) {\n",
    "            $(\"div#menubar-container\").hide();\n",
    "        } else {\n",
    "            $(\"div#menubar-container\").show();\n",
    "        }\n",
    "        showToolbars = !showToolbars;\n",
    "    };\n",
    "    toggleToolbarsButton = (\n",
    "        '&nbsp; &nbsp; &nbsp;' +\n",
    "        '<div class=\"btn-group\" id=\"buttonTwo\">' +\n",
    "        '<button class=\"btn btn-default\" onclick=\"toggleToolbars()\">' + \n",
    "        'Toolbars' +\n",
    "        '</button>' +\n",
    "        '</div>'\n",
    "    );\n",
    "    if (!document.getElementById(\"buttonTwo\")) {\n",
    "        $(\"#header-container\").append(toggleToolbarsButton);\n",
    "    }\n",
    "    $(document).ready(toggleToolbars);\n",
    "</script>"
   ]
  },
  {
   "cell_type": "code",
   "execution_count": null,
   "metadata": {
    "collapsed": false
   },
   "outputs": [],
   "source": [
    "from plotly.offline import init_notebook_mode, iplot\n",
    "init_notebook_mode(connected=True)\n",
    "\n",
    "import math as math\n",
    "import numpy as np\n",
    "import scipy as sp\n",
    "\n",
    "# from plotly.graph_objs import *\n",
    "from plotly.tools import FigureFactory as FF\n",
    "from ipywidgets import interact, FloatSlider\n",
    "from skimage import measure"
   ]
  },
  {
   "cell_type": "code",
   "execution_count": null,
   "metadata": {
    "collapsed": false
   },
   "outputs": [],
   "source": [
    "n_slider = FloatSlider(min=1.0, max=6.0, step=1.0, value=1.0, continuous_update=False)\n",
    "l_slider = FloatSlider(min=0.0, max=5.0, step=1.0, value=0.0, continuous_update=False)\n",
    "m_slider = FloatSlider(min=-5.0, max=5.0, step=1.0, value=0.0, continuous_update=False)\n",
    "a_slider = FloatSlider(min=1.0, max=10.0, step=1.0, value=1.0, continuous_update=False)\n",
    "r_slider = FloatSlider(min=1, max=100, step=1, value=2, continuous_update=False)\n",
    "\n",
    "@interact(n=n_slider, l=l_slider, m=m_slider, a=a_slider, r=r_slider)\n",
    "def wavefunction(n, l, m, a, r):\n",
    "    l_max = n-1\n",
    "    r_max = 3*n**2\n",
    "    x_max = 2*r_max+r/2\n",
    "\n",
    "    X, Y, Z = np.mgrid[-x_max:x_max:30j, -r_max:r_max:30j, -r_max:r_max:30j]\n",
    "\n",
    "    l_slider.max = l_max\n",
    "    m_slider.max = l_max\n",
    "    m_slider.min = -l_max\n",
    "    r_slider.max = 2*r_max\n",
    "\n",
    "    power = (2.0/(n*a)) ** 3.0\n",
    "    factorial = math.factorial(n-l-1) / (2*n*math.factorial(n+l))\n",
    "    sqrt = np.sqrt(power * factorial)\n",
    "\n",
    "    theta1 = np.arctan(np.sqrt(np.square(X+r) + np.square(Y))/Z)\n",
    "    phi1 = np.arctan(Y/(X+r))\n",
    "    r1 = np.sqrt(np.square(X+r) + np.square(Y) + np.square(Z))\n",
    "    rho1 = 2*r1 / (n*a)\n",
    "    wf1 = np.square(abs(sqrt * np.exp(-rho1/2) * np.power(rho1, l) * np.polyval(sp.special.genlaguerre(n-l-1, 2*l+1), rho1) * sp.special.sph_harm(m, l, phi1, theta1)))\n",
    "\n",
    "    theta2 = np.arctan(np.sqrt(np.square(X-r) + np.square(Y))/Z)\n",
    "    phi2 = np.arctan(Y/(X-r))\n",
    "    r2 = np.sqrt(np.square(X-r) + np.square(Y) + np.square(Z))\n",
    "    rho2 = 2*r2 / (n*a)\n",
    "    wf2 = np.square(abs(sqrt * np.exp(-rho2/2) * np.power(rho2, l) * np.polyval(sp.special.genlaguerre(n-l-1, 2*l+1), rho2) * sp.special.sph_harm(m, l, phi2, theta2)))\n",
    "\n",
    "    wf = wf1+wf2\n",
    "\n",
    "    vertices, simplices = measure.marching_cubes(wf, level=.005/n**6)\n",
    "    x, y, z = zip(*vertices)\n",
    "\n",
    "    aspect = x_max/r_max\n",
    "    colormap = ['rgb(255,105,180)', 'rgb(255,255,51)', 'rgb(0,191,255)']\n",
    "    fig = FF.create_trisurf(x=x,\n",
    "                            y=y,\n",
    "                            z=z,\n",
    "                            plot_edges=False,\n",
    "                            colormap=colormap,\n",
    "                            simplices=simplices,\n",
    "                            aspectratio=dict(x=aspect, y=1, z=1),\n",
    "                            title=\"Hydrogen Molecule\")\n",
    "    iplot(fig)"
   ]
  },
  {
   "cell_type": "code",
   "execution_count": null,
   "metadata": {
    "collapsed": false
   },
   "outputs": [],
   "source": [
    "from pyquante2 import h2,h2o,c6h6"
   ]
  },
  {
   "cell_type": "code",
   "execution_count": null,
   "metadata": {
    "collapsed": false
   },
   "outputs": [],
   "source": [
    "h2"
   ]
  },
  {
   "cell_type": "code",
   "execution_count": null,
   "metadata": {
    "collapsed": false
   },
   "outputs": [],
   "source": [
    "h2o"
   ]
  },
  {
   "cell_type": "code",
   "execution_count": null,
   "metadata": {
    "collapsed": false
   },
   "outputs": [],
   "source": [
    "c6h6"
   ]
  },
  {
   "cell_type": "code",
   "execution_count": null,
   "metadata": {
    "collapsed": true
   },
   "outputs": [],
   "source": []
  }
 ],
 "metadata": {
  "kernelspec": {
   "display_name": "Python 2",
   "language": "python",
   "name": "python2"
  },
  "language_info": {
   "codemirror_mode": {
    "name": "ipython",
    "version": 2
   },
   "file_extension": ".py",
   "mimetype": "text/x-python",
   "name": "python",
   "nbconvert_exporter": "python",
   "pygments_lexer": "ipython2",
   "version": "2.7.6"
  }
 },
 "nbformat": 4,
 "nbformat_minor": 1
}
